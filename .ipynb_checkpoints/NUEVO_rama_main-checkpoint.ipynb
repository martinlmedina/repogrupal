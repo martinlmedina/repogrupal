{
 "cells": [
  {
   "cell_type": "markdown",
   "id": "e60d897d",
   "metadata": {},
   "source": [
    "## NUEVO"
   ]
  },
  {
   "cell_type": "markdown",
   "id": "668787bd",
   "metadata": {},
   "source": [
    "Este es una notebook de prueba que se subió al branch main"
   ]
  }
 ],
 "metadata": {
  "kernelspec": {
   "display_name": "Python 3 (ipykernel)",
   "language": "python",
   "name": "python3"
  },
  "language_info": {
   "codemirror_mode": {
    "name": "ipython",
    "version": 3
   },
   "file_extension": ".py",
   "mimetype": "text/x-python",
   "name": "python",
   "nbconvert_exporter": "python",
   "pygments_lexer": "ipython3",
   "version": "3.9.7"
  }
 },
 "nbformat": 4,
 "nbformat_minor": 5
}
